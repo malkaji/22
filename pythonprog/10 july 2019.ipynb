{
 "cells": [
  {
   "cell_type": "markdown",
   "metadata": {},
   "source": [
    "## tuples\n",
    "* t1 parenthesis() li square brackets[]\n",
    "* diffrence between list and tuples\n",
    "* list are mutable-can be changed/modified\n",
    "* used to access modify,add,delete data\n",
    "* tuples are immutable and cannot be changed\n",
    "* use to access data only\n"
   ]
  },
  {
   "cell_type": "code",
   "execution_count": 2,
   "metadata": {},
   "outputs": [
    {
     "data": {
      "text/plain": [
       "list"
      ]
     },
     "execution_count": 2,
     "metadata": {},
     "output_type": "execute_result"
    }
   ],
   "source": [
    "\n",
    "t1=[1,2,3,4,5,6]\n",
    "t1\n",
    "type(t1)"
   ]
  },
  {
   "cell_type": "markdown",
   "metadata": {},
   "source": [
    "## data structures\n",
    " * Dictionaries"
   ]
  },
  {
   "cell_type": "markdown",
   "metadata": {},
   "source": [
    "## dictionaries¶\n",
    "* t works on the concept of set uniqye data\n",
    "* keys,values is the unique identifier for a value\n",
    "* each key is seperated from its value with colon(:)\n",
    "* each key and value is seperated by comma(,)\n",
    "* dictionaries enclosed with curly braces({})\n"
   ]
  },
  {
   "cell_type": "code",
   "execution_count": 2,
   "metadata": {},
   "outputs": [
    {
     "name": "stdout",
     "output_type": "stream",
     "text": [
      "{'name': 'nikitha', 'emailid': 'nikitha@gmail.com', 'address': 'hyderabad'}\n"
     ]
    }
   ],
   "source": [
    "d1={\"name\":\"nikitha\",\"emailid\":\"nikitha@gmail.com\",\"address\":\"hyderabad\"}\n",
    "print(d1)"
   ]
  },
  {
   "cell_type": "code",
   "execution_count": 4,
   "metadata": {},
   "outputs": [
    {
     "data": {
      "text/plain": [
       "'nikitha'"
      ]
     },
     "execution_count": 4,
     "metadata": {},
     "output_type": "execute_result"
    }
   ],
   "source": [
    "d1[\"name\"]"
   ]
  },
  {
   "cell_type": "code",
   "execution_count": 3,
   "metadata": {},
   "outputs": [],
   "source": [
    "d1={\"name\":\"nikitha\",\"emailid\":\"nikitha@gmail.com\",\"address\":\"hyderabad\"}\n",
    "\n",
    "d1[\"emailid\"] = \"nikithanasi@gmail.com\"\n"
   ]
  },
  {
   "cell_type": "code",
   "execution_count": 4,
   "metadata": {},
   "outputs": [
    {
     "data": {
      "text/plain": [
       "'nikithanasi@gmail.com'"
      ]
     },
     "execution_count": 4,
     "metadata": {},
     "output_type": "execute_result"
    }
   ],
   "source": [
    "d1[\"emailid\"]"
   ]
  },
  {
   "cell_type": "code",
   "execution_count": 5,
   "metadata": {},
   "outputs": [
    {
     "data": {
      "text/plain": [
       "dict_keys(['name', 'emailid', 'address'])"
      ]
     },
     "execution_count": 5,
     "metadata": {},
     "output_type": "execute_result"
    }
   ],
   "source": [
    "d1.keys()"
   ]
  },
  {
   "cell_type": "code",
   "execution_count": 6,
   "metadata": {},
   "outputs": [
    {
     "data": {
      "text/plain": [
       "dict_values(['nikitha', 'nikithanasi@gmail.com', 'hyderabad'])"
      ]
     },
     "execution_count": 6,
     "metadata": {},
     "output_type": "execute_result"
    }
   ],
   "source": [
    "d1.values()"
   ]
  },
  {
   "cell_type": "code",
   "execution_count": 7,
   "metadata": {},
   "outputs": [
    {
     "data": {
      "text/plain": [
       "dict_items([('name', 'nikitha'), ('emailid', 'nikithanasi@gmail.com'), ('address', 'hyderabad')])"
      ]
     },
     "execution_count": 7,
     "metadata": {},
     "output_type": "execute_result"
    }
   ],
   "source": [
    "d1.items()"
   ]
  },
  {
   "cell_type": "markdown",
   "metadata": {},
   "source": [
    "## contact application\n",
    "* add contact\n",
    "* search contact\n",
    "* ist all contacts\n",
    "* name1:phone1\n",
    "* name2:phone2\n",
    "* modify the contacts\n",
    "* remove the contacts\n",
    "* import the contacts"
   ]
  },
  {
   "cell_type": "code",
   "execution_count": 8,
   "metadata": {},
   "outputs": [
    {
     "name": "stdout",
     "output_type": "stream",
     "text": [
      "contact details are added\n",
      "contact details are added\n",
      "contact details are alreadt exists\n"
     ]
    }
   ],
   "source": [
    "\n",
    "contacts = {}\n",
    "def addcontact(name,phone):\n",
    "    if name not in contacts:\n",
    "        contacts[name] = phone\n",
    "        print(\"contact details are added\")\n",
    "    else:\n",
    "        print(\"contact details are alreadt exists\")\n",
    "    return\n",
    "addcontact('nikitha','9542595776')\n",
    "addcontact('anasi','9246245484')\n",
    "addcontact('nikitha','835495788')"
   ]
  },
  {
   "cell_type": "code",
   "execution_count": 9,
   "metadata": {},
   "outputs": [
    {
     "name": "stdout",
     "output_type": "stream",
     "text": [
      "nikitha : 9542595776\n",
      "anasi : 9246245484\n",
      "vivek doesnot exsits\n"
     ]
    }
   ],
   "source": [
    "# search for contact details\n",
    "def searchcontact(name):\n",
    "    if name in contacts:\n",
    "        print(name,\":\",contacts[name])\n",
    "    else:\n",
    "        print(\"%s doesnot exsits\"%name)\n",
    "    return\n",
    "searchcontact('nikitha')\n",
    "searchcontact('anasi')\n",
    "searchcontact('vivek')\n"
   ]
  },
  {
   "cell_type": "code",
   "execution_count": 10,
   "metadata": {},
   "outputs": [
    {
     "name": "stdout",
     "output_type": "stream",
     "text": [
      "2 contacts added succesfully\n"
     ]
    }
   ],
   "source": [
    "# import some contacts\n",
    "# merge the contacts with existing one\n",
    "def importcontacts(newcontacts):\n",
    "    contacts.update(newcontacts)\n",
    "    print(len(newcontacts.keys()),\"contacts added succesfully\")\n",
    "    return\n",
    "newcontacts={'hari':9848995776,'saivivek':8282891}\n",
    "importcontacts(newcontacts)\n"
   ]
  },
  {
   "cell_type": "code",
   "execution_count": 11,
   "metadata": {},
   "outputs": [
    {
     "name": "stdout",
     "output_type": "stream",
     "text": [
      "nikitha deleted succesfully\n",
      "anu not existed\n"
     ]
    }
   ],
   "source": [
    "\n",
    "# delete contacts\n",
    "def deletecontact(name):\n",
    "    if name in contacts:\n",
    "        del contacts[name]\n",
    "        print(name,\"deleted succesfully\")\n",
    "    else:\n",
    "        print(name,\"not existed\")\n",
    "    return\n",
    "deletecontact('nikitha')\n",
    "deletecontact('anu')\n"
   ]
  },
  {
   "cell_type": "code",
   "execution_count": 12,
   "metadata": {},
   "outputs": [
    {
     "name": "stdout",
     "output_type": "stream",
     "text": [
      "nikitha not exists\n",
      "hari update succesfully\n"
     ]
    }
   ],
   "source": [
    "# update the contact details\n",
    "def deletecontact(name,phone):\n",
    "    if name in contacts:\n",
    "        contacts[name]=phone\n",
    "        print(name,\"update succesfully\")\n",
    "    else:\n",
    "        print(name,\"not exists\")\n",
    "    return\n",
    "deletecontact('nikitha',9848995776)\n",
    "deletecontact('hari',98489956)\n"
   ]
  },
  {
   "cell_type": "code",
   "execution_count": 13,
   "metadata": {},
   "outputs": [
    {
     "data": {
      "text/plain": [
       "{'anasi': '9246245484', 'hari': 98489956, 'saivivek': 8282891}"
      ]
     },
     "execution_count": 13,
     "metadata": {},
     "output_type": "execute_result"
    }
   ],
   "source": [
    "contacts"
   ]
  },
  {
   "cell_type": "markdown",
   "metadata": {},
   "source": [
    "## packages and modules\n",
    "**packages:**\n",
    "   * a collection of modules(single python file .py) and subpackages\n",
    "**modules:**\n",
    "   * a single python file containing set functions\n",
    "### packages -->sub packages -->modules-->functions-->statements"
   ]
  },
  {
   "cell_type": "code",
   "execution_count": 14,
   "metadata": {},
   "outputs": [
    {
     "data": {
      "text/plain": [
       "123"
      ]
     },
     "execution_count": 14,
     "metadata": {},
     "output_type": "execute_result"
    }
   ],
   "source": [
    "# import the externals packages to python file\n",
    "import math\n",
    "math.floor(123.45)"
   ]
  },
  {
   "cell_type": "code",
   "execution_count": 16,
   "metadata": {},
   "outputs": [
    {
     "data": {
      "text/plain": [
       "120"
      ]
     },
     "execution_count": 16,
     "metadata": {},
     "output_type": "execute_result"
    }
   ],
   "source": [
    "from math import factorial as fact\n",
    "fact(5)"
   ]
  },
  {
   "cell_type": "code",
   "execution_count": 2,
   "metadata": {},
   "outputs": [
    {
     "name": "stdout",
     "output_type": "stream",
     "text": [
      "89 58 45 65 78 40 50 31 91 25 "
     ]
    }
   ],
   "source": [
    "# function to generate N random number in given range\n",
    "import random\n",
    "def randomNumber(n,lb,ub):\n",
    "    for i in range(0,n):\n",
    "        print(random.randint(lb,ub),end=\" \")\n",
    "    return\n",
    "randomNumber(10,0,100)"
   ]
  },
  {
   "cell_type": "code",
   "execution_count": 5,
   "metadata": {},
   "outputs": [
    {
     "name": "stdout",
     "output_type": "stream",
     "text": [
      "344 377 243 377 144 193 309 480 387 143 476 244 362 473 440 337 329 477 413 401 "
     ]
    },
    {
     "data": {
      "text/plain": [
       "'try again'"
      ]
     },
     "execution_count": 5,
     "metadata": {},
     "output_type": "execute_result"
    }
   ],
   "source": [
    "# create a simple game\n",
    "# generate 20 random numbers 0 to500\n",
    "# input: number\n",
    "# output:congrats!!\n",
    "#        try once again!\n",
    "import random\n",
    "def generatenumber(n,lb,ub):\n",
    "    \n",
    "    for i in range(0,n):\n",
    "        print(random.randint(lb,ub),end=\" \")\n",
    "    return\n",
    "generatenumber(20,0,500)\n",
    "def check(n):\n",
    "    li=[]\n",
    "    if n in li:\n",
    "        return \"congrats!!\"\n",
    "    else:\n",
    "        return \"try again\"\n",
    "    return\n",
    "check(181)\n",
    "    "
   ]
  },
  {
   "cell_type": "code",
   "execution_count": null,
   "metadata": {},
   "outputs": [],
   "source": []
  }
 ],
 "metadata": {
  "kernelspec": {
   "display_name": "Python 3",
   "language": "python",
   "name": "python3"
  },
  "language_info": {
   "codemirror_mode": {
    "name": "ipython",
    "version": 3
   },
   "file_extension": ".py",
   "mimetype": "text/x-python",
   "name": "python",
   "nbconvert_exporter": "python",
   "pygments_lexer": "ipython3",
   "version": "3.7.3"
  }
 },
 "nbformat": 4,
 "nbformat_minor": 2
}
