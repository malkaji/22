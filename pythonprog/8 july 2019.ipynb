{
 "cells": [
  {
   "cell_type": "code",
   "execution_count": 1,
   "metadata": {},
   "outputs": [
    {
     "name": "stdout",
     "output_type": "stream",
     "text": [
      "1 2 3 4 6 12 "
     ]
    }
   ],
   "source": [
    "# find the factors of given number\n",
    "# ex 12    >1 2 3 4 6 12\n",
    "def factoralist(n):\n",
    "    for i in range(1,n+1):\n",
    "        if n%i==0:\n",
    "            print(i,end=\" \")\n",
    "    return\n",
    "factoralist(12)"
   ]
  },
  {
   "cell_type": "code",
   "execution_count": 2,
   "metadata": {},
   "outputs": [
    {
     "data": {
      "text/plain": [
       "True"
      ]
     },
     "execution_count": 2,
     "metadata": {},
     "output_type": "execute_result"
    }
   ],
   "source": [
    "# given number is prime or not\n",
    "def isprime(n):\n",
    "    flag = True\n",
    "    for i in range(2,n//2+1):\n",
    "        if n % i == 0:\n",
    "            flag = False\n",
    "            return flag\n",
    "        return flag\n",
    "isprime(11)"
   ]
  },
  {
   "cell_type": "code",
   "execution_count": 4,
   "metadata": {},
   "outputs": [
    {
     "data": {
      "text/plain": [
       "4"
      ]
     },
     "execution_count": 4,
     "metadata": {},
     "output_type": "execute_result"
    }
   ],
   "source": [
    "# function to find prime numbers count from 1 to N \n",
    "# 10 --- 4(2,3,5,7)\n",
    "def primeCount(n):\n",
    "    cnt = 0\n",
    "    for a in range(2,n+1):\n",
    "        k = 0\n",
    "        for i in range(2,a//2+1):\n",
    "            if a % i == 0:\n",
    "                k = k + 1\n",
    "            if(k<=0):\n",
    "                cnt = cnt + 1\n",
    "    return cnt\n",
    "primeCount(10)"
   ]
  },
  {
   "cell_type": "code",
   "execution_count": 7,
   "metadata": {},
   "outputs": [
    {
     "name": "stdout",
     "output_type": "stream",
     "text": [
      "yes\n",
      "no\n"
     ]
    }
   ],
   "source": [
    "# individual digit factorial sum is equal to original number\n",
    "# example:-\n",
    "# 145 -- yes (5! + 4! + 1! = 145)\n",
    "# 123 -- no (3! + 2! + 1! = 9)\n",
    "def factorial(n):\n",
    "    fact=1\n",
    "    for i in range(2,n+1):\n",
    "        fact*=i\n",
    "    return fact\n",
    "def digitFactorialsum(n):\n",
    "    sum=0\n",
    "    buffer=n\n",
    "    while n!=0:\n",
    "        r=n%10\n",
    "        sum+=factorial(r)\n",
    "        n=n//10\n",
    "    if sum==buffer:\n",
    "        return \"yes\"\n",
    "    else:\n",
    "        return \"no\"\n",
    "    return\n",
    "print(digitFactorialsum(145))\n",
    "print(digitFactorialsum(123))"
   ]
  },
  {
   "cell_type": "code",
   "execution_count": 13,
   "metadata": {},
   "outputs": [
    {
     "data": {
      "text/plain": [
       "9"
      ]
     },
     "execution_count": 13,
     "metadata": {},
     "output_type": "execute_result"
    }
   ],
   "source": [
    "# function to return the count of palindrome number two limits\n",
    "def ispalindrome(n):\n",
    "    rev=0\n",
    "    buffer=n\n",
    "    while n!=0:\n",
    "        r=n%10\n",
    "        rev=rev*10+r\n",
    "        n=n//10\n",
    "    if rev==buffer:\n",
    "        return True\n",
    "    else:\n",
    "        return False\n",
    "    return\n",
    "def countpalindrome(lb,ub):\n",
    "    cnt=0\n",
    "    while lb!=ub:\n",
    "        if ispalindrome(lb)==True:\n",
    "          cnt=cnt+1\n",
    "        lb=lb+1\n",
    "    return cnt\n",
    "countpalindrome(1,10)"
   ]
  },
  {
   "cell_type": "code",
   "execution_count": 3,
   "metadata": {},
   "outputs": [
    {
     "name": "stdout",
     "output_type": "stream",
     "text": [
      "6 \n",
      "6 28 496 8128 \n"
     ]
    }
   ],
   "source": [
    "# function to generate the perfect number in a given range\n",
    "def factorsList(n):\n",
    "    sum=0\n",
    "    for i in range(1,n//2+1):\n",
    "        if n%i==0:\n",
    "            sum=sum+i\n",
    "    return sum\n",
    "def isperfect(n):\n",
    "    if factorsList(n)==n:\n",
    "        return True\n",
    "    return False\n",
    "def generateperfect(lb,ub):\n",
    "    for x in range(lb,ub+1):\n",
    "        if isperfect (x):\n",
    "            print(x,end=\" \")\n",
    "    print()\n",
    "    return\n",
    "generateperfect(1,10)\n",
    "generateperfect(1,10000)"
   ]
  },
  {
   "cell_type": "markdown",
   "metadata": {},
   "source": [
    "## programming in python(strings)\n",
    "* strings\n",
    "* string slicing\n",
    "* fundamental programming with strings in python"
   ]
  },
  {
   "cell_type": "code",
   "execution_count": 5,
   "metadata": {},
   "outputs": [
    {
     "name": "stdout",
     "output_type": "stream",
     "text": [
      "p y t h o n "
     ]
    }
   ],
   "source": [
    "s1=\"python\"\n",
    "print(s1[0],end=\" \")\n",
    "print(s1[1],end=\" \")\n",
    "print(s1[2],end=\" \")\n",
    "print(s1[3],end=\" \")\n",
    "print(s1[4],end=\" \")\n",
    "print(s1[5],end=\" \")"
   ]
  },
  {
   "cell_type": "code",
   "execution_count": 6,
   "metadata": {},
   "outputs": [
    {
     "name": "stdout",
     "output_type": "stream",
     "text": [
      "n\n",
      "n\n"
     ]
    }
   ],
   "source": [
    "s1=\"python\"\n",
    "print(s1[5])\n",
    "print(s1[len(s1)-1])"
   ]
  },
  {
   "cell_type": "code",
   "execution_count": 8,
   "metadata": {},
   "outputs": [
    {
     "name": "stdout",
     "output_type": "stream",
     "text": [
      "o\n"
     ]
    }
   ],
   "source": [
    "print(s1[-2])"
   ]
  },
  {
   "cell_type": "code",
   "execution_count": 9,
   "metadata": {},
   "outputs": [
    {
     "name": "stdout",
     "output_type": "stream",
     "text": [
      "n\n",
      "o\n",
      "py\n",
      "py\n",
      "hon\n",
      "thon\n"
     ]
    }
   ],
   "source": [
    "print(s1[-1])\n",
    "print(s1[-2])\n",
    "print(s1[0:2])\n",
    "print(s1[:2])\n",
    "print(s1[-3:])\n",
    "print(s1[2:])"
   ]
  },
  {
   "cell_type": "code",
   "execution_count": 11,
   "metadata": {},
   "outputs": [
    {
     "name": "stdout",
     "output_type": "stream",
     "text": [
      "ytho\n",
      "h\n",
      "nohtyp\n",
      "no\n",
      "pto\n",
      "ph\n",
      "nhy\n"
     ]
    }
   ],
   "source": [
    "print(s1[1:-1]) #prints all character except 1st and last\n",
    "print(s1[len(s1)//2]) #middle char of string\n",
    "print(s1[-1::-1]) #reversing the string\n",
    "print(s1[-1:-3:-1]) #access the last two chars in reverse order\n",
    "print(s1[::2]) #access the alternate chars #for two chars\n",
    "print(s1[::3]) #for 3 chars\n",
    "print(s1[::-2])# alternate in reverse direction"
   ]
  },
  {
   "cell_type": "code",
   "execution_count": 13,
   "metadata": {},
   "outputs": [
    {
     "data": {
      "text/plain": [
       "'gnimmargorp'"
      ]
     },
     "execution_count": 13,
     "metadata": {},
     "output_type": "execute_result"
    }
   ],
   "source": [
    "def reverseString(str):\n",
    "    return str[-1::-1]\n",
    "reverseString(\"programming\")"
   ]
  },
  {
   "cell_type": "code",
   "execution_count": 18,
   "metadata": {},
   "outputs": [
    {
     "name": "stdout",
     "output_type": "stream",
     "text": [
      "False\n",
      "True\n"
     ]
    }
   ],
   "source": [
    "def isPalindrome(str):\n",
    "    if str == str[::-1]:\n",
    "        return True\n",
    "    else:\n",
    "        return False\n",
    "    return\n",
    "print(isPalindrome(\"python\"))\n",
    "print(isPalindrome(\"ganag\"))"
   ]
  },
  {
   "cell_type": "code",
   "execution_count": 2,
   "metadata": {},
   "outputs": [
    {
     "name": "stdout",
     "output_type": "stream",
     "text": [
      "P T "
     ]
    }
   ],
   "source": [
    "# function to print upper case characters\n",
    "def printUpper(x):\n",
    "    for i in range(len(x)):\n",
    "        if ord(x[i])>=65 and ord(x[i])<=90:\n",
    "            print(x[i],end=\" \")\n",
    "    return\n",
    "printUpper(\"PyThon\")"
   ]
  },
  {
   "cell_type": "code",
   "execution_count": null,
   "metadata": {},
   "outputs": [],
   "source": [
    "ord('a') # it gives respective character"
   ]
  },
  {
   "cell_type": "code",
   "execution_count": 3,
   "metadata": {},
   "outputs": [
    {
     "data": {
      "text/plain": [
       "'programming'"
      ]
     },
     "execution_count": 3,
     "metadata": {},
     "output_type": "execute_result"
    }
   ],
   "source": [
    "# function to print \"python\" if the count of upper case and lower case is same\n",
    "# upper and lower case is same\n",
    "# print \"programming\" if not same\n",
    "def findcount(str):\n",
    "    cntupper=0\n",
    "    cntlower=0\n",
    "    for x in range(len(str)):\n",
    "        if ord(str[x])>=65 and ord(str[x])<=90:\n",
    "            cntupper==cntupper+1\n",
    "        elif ord(str[x])>=97 and ord(str[x])<=122:\n",
    "            cntlower=cntlower+1\n",
    "    if cntupper==cntlower:\n",
    "        return \"samecount\"\n",
    "    else:\n",
    "        return \"programming\"\n",
    "    return\n",
    "findcount('PYThon')\n",
    "findcount('PYThon')\n"
   ]
  },
  {
   "cell_type": "code",
   "execution_count": 4,
   "metadata": {},
   "outputs": [
    {
     "name": "stdout",
     "output_type": "stream",
     "text": [
      "1 8 8 9 "
     ]
    }
   ],
   "source": [
    "# extract digits from given string\n",
    "# example\n",
    "# input: app[i]cat8ion89\n",
    "def findDigits(x):\n",
    "    for i in range(len(x)):\n",
    "        if ord(x[i])>=48 and ord(x[i])<=57:\n",
    "            print(x[i],end=\" \")\n",
    "    return\n",
    "findDigits(\"appli1cat8ion89\")\n"
   ]
  },
  {
   "cell_type": "code",
   "execution_count": 5,
   "metadata": {},
   "outputs": [
    {
     "data": {
      "text/plain": [
       "26"
      ]
     },
     "execution_count": 5,
     "metadata": {},
     "output_type": "execute_result"
    }
   ],
   "source": [
    "# function to return the sum of the digits in a given string\n",
    "def digitsum(x):\n",
    "    sum=0\n",
    "    for i in range(len(x)):\n",
    "        if ord(x[i])>=48 and ord(x[i])<=57:\n",
    "            sum=sum+(ord(x[i])-48)\n",
    "    return sum\n",
    "digitsum(\"appli1cat8ion89\")\n"
   ]
  },
  {
   "cell_type": "code",
   "execution_count": 8,
   "metadata": {},
   "outputs": [
    {
     "data": {
      "text/plain": [
       "16"
      ]
     },
     "execution_count": 8,
     "metadata": {},
     "output_type": "execute_result"
    }
   ],
   "source": [
    "# function t find sum of even digits\n",
    "def digitsum(x):\n",
    "    sum=0\n",
    "    for i in range(len(x)):\n",
    "        if ord(x[i])>=48 and ord(x[i])<=57:\n",
    "            if (ord(x[i])-48)%2==0:\n",
    "                sum=sum+(ord(x[i])-48)\n",
    "    return sum\n",
    "digitsum(\"appli1cat8ion89\")"
   ]
  },
  {
   "cell_type": "code",
   "execution_count": 25,
   "metadata": {},
   "outputs": [
    {
     "ename": "NameError",
     "evalue": "name 'wordUppercase' is not defined",
     "output_type": "error",
     "traceback": [
      "\u001b[1;31m---------------------------------------------------------------------------\u001b[0m",
      "\u001b[1;31mNameError\u001b[0m                                 Traceback (most recent call last)",
      "\u001b[1;32m<ipython-input-25-a3959d69434a>\u001b[0m in \u001b[0;36m<module>\u001b[1;34m\u001b[0m\n\u001b[0;32m     17\u001b[0m             \u001b[1;32mbreak\u001b[0m\u001b[1;33m\u001b[0m\u001b[1;33m\u001b[0m\u001b[0m\n\u001b[0;32m     18\u001b[0m     \u001b[1;32mreturn\u001b[0m\u001b[1;33m\u001b[0m\u001b[1;33m\u001b[0m\u001b[0m\n\u001b[1;32m---> 19\u001b[1;33m \u001b[0mwordUppercase\u001b[0m\u001b[1;33m(\u001b[0m\u001b[1;34m'Python Made Easy'\u001b[0m\u001b[1;33m)\u001b[0m\u001b[1;33m\u001b[0m\u001b[1;33m\u001b[0m\u001b[0m\n\u001b[0m",
      "\u001b[1;31mNameError\u001b[0m: name 'wordUppercase' is not defined"
     ]
    }
   ],
   "source": [
    "# function to print the specific word in upper case\n",
    "# input:python made Easy\n",
    "# output:MADE\n",
    "# learn python programming\n",
    "# output:PYTHON\n",
    "def worduppercase(s):\n",
    "    spacecnt=0\n",
    "    for x in range(len(s)):\n",
    "        if s[x]==32:\n",
    "            spacecnt+=1\n",
    "        if spacecnt==1:\n",
    "            if ord(s[x])>=65 and ord(s[x])<=90:\n",
    "                print(s[x],end=\" \")\n",
    "            elif ord(s[x])>=97 and ord(s[x])<=122:\n",
    "                print(chr(ord(s[x])-32),end=\" \")\n",
    "        if spacecnt==2:\n",
    "            break\n",
    "    return\n",
    "wordUppercase('Python Made Easy')"
   ]
  },
  {
   "cell_type": "code",
   "execution_count": null,
   "metadata": {},
   "outputs": [],
   "source": []
  }
 ],
 "metadata": {
  "kernelspec": {
   "display_name": "Python 3",
   "language": "python",
   "name": "python3"
  },
  "language_info": {
   "codemirror_mode": {
    "name": "ipython",
    "version": 3
   },
   "file_extension": ".py",
   "mimetype": "text/x-python",
   "name": "python",
   "nbconvert_exporter": "python",
   "pygments_lexer": "ipython3",
   "version": "3.7.3"
  }
 },
 "nbformat": 4,
 "nbformat_minor": 2
}
