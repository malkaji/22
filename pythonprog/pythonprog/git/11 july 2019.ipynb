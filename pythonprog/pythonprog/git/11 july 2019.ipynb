{
 "cells": [
  {
   "cell_type": "markdown",
   "metadata": {},
   "source": [
    "## standard libraries\n",
    "- fileI/O\n",
    "- regular expression\n",
    "- datatime\n",
    "- math(numerical and mathematical)"
   ]
  },
  {
   "cell_type": "markdown",
   "metadata": {},
   "source": [
    "### File Handling in Python\n",
    "- File:-Document containing information resides on the permanent storage\n",
    "- different types of files:-text,doc,pdf,csv and etc...\n",
    "- input ---keyboard\n",
    "- output --File\n",
    "### Modes of the file I/O\n",
    "- 'w' -- this mode is used to file writing\n",
    "      -- if the file is not present first it creates the file and write so me data to it\n",
    "      -- if the file is already present then it will rewrite the previous content"
   ]
  },
  {
   "cell_type": "code",
   "execution_count": 1,
   "metadata": {},
   "outputs": [],
   "source": [
    "def createfile(filename):\n",
    "    f=open(filename,'w')\n",
    "    for i in range(10):\n",
    "        f.write('this is %d line,'%i)\n",
    "    print(\"File is created and data has been written\")\n",
    "    return\n",
    "createfile('file1.txt')"
   ]
  },
  {
   "cell_type": "code",
   "execution_count": 2,
   "metadata": {
    "scrolled": true
   },
   "outputs": [
    {
     "name": "stdout",
     "output_type": "stream",
     "text": [
      " Volume in drive C has no label.\n",
      " Volume Serial Number is 74E3-BEEF\n",
      "\n",
      " Directory of C:\\Users\\student\\Desktop\\pythonprog\n",
      "\n",
      "11-Jul-19  10:42 AM    <DIR>          .\n",
      "11-Jul-19  10:42 AM    <DIR>          ..\n",
      "11-Jul-19  09:12 AM    <DIR>          .ipynb_checkpoints\n",
      "10-Jul-19  04:44 PM            10,781 10 july 2019.ipynb\n",
      "11-Jul-19  10:42 AM             7,350 11 july 2019.ipynb\n",
      "06-Jul-19  09:18 AM            10,617 5th july 2019.ipynb\n",
      "06-Jul-19  11:27 AM             4,746 6 july 2019.ipynb\n",
      "08-Jul-19  04:07 PM            13,394 8 july 2019.ipynb\n",
      "09-Jul-19  04:49 PM            14,491 9 july 2019.ipynb\n",
      "11-Jul-19  10:42 AM               150 file1.txt\n",
      "11-Jul-19  10:40 AM               388 file2.txt\n",
      "05-Jul-19  09:53 AM    <DIR>          git\n",
      "               8 File(s)         61,917 bytes\n",
      "               4 Dir(s)  55,343,206,400 bytes free\n"
     ]
    }
   ],
   "source": [
    "ls"
   ]
  },
  {
   "cell_type": "code",
   "execution_count": 3,
   "metadata": {},
   "outputs": [
    {
     "name": "stdout",
     "output_type": "stream",
     "text": [
      "Testing..\n",
      "\n",
      "file is created and data has been written\n"
     ]
    }
   ],
   "source": [
    "def createfile(filename):\n",
    "    f=open(filename,'w')\n",
    "    print(\"Testing..\\n\")\n",
    "    print(\"file is created and data has been written\")\n",
    "    return\n",
    "createfile('file1.txt')"
   ]
  },
  {
   "cell_type": "code",
   "execution_count": 4,
   "metadata": {},
   "outputs": [
    {
     "name": "stdout",
     "output_type": "stream",
     "text": [
      "File created succesfully data written\n"
     ]
    }
   ],
   "source": [
    "def appenddata(filename):\n",
    "    f=open(filename,'a')\n",
    "    for i in range(10):\n",
    "        f.write(\"this is %d line\\n,\"%i)\n",
    "    print(\"File created succesfully data written\")\n",
    "    return\n",
    "appenddata('file2.txt')"
   ]
  },
  {
   "cell_type": "code",
   "execution_count": 5,
   "metadata": {},
   "outputs": [
    {
     "name": "stdout",
     "output_type": "stream",
     "text": [
      "File created and Successfully data written\n"
     ]
    }
   ],
   "source": [
    "def appendData(filename):\n",
    "    f=open(filename,'a')\n",
    "    f.write(\"New Line 1\\n\")\n",
    "    f.write(\"new Line 2\\n\")\n",
    "    print(\"File created and Successfully data written\")\n",
    "    return\n",
    "appendData('file2.txt')"
   ]
  },
  {
   "cell_type": "code",
   "execution_count": 6,
   "metadata": {},
   "outputs": [
    {
     "name": "stdout",
     "output_type": "stream",
     "text": [
      "this is 0 line\n",
      ",this is 1 line\n",
      ",this is 2 line\n",
      ",this is 3 line\n",
      ",this is 4 line\n",
      ",this is 5 line\n",
      ",this is 6 line\n",
      ",this is 7 line\n",
      ",this is 8 line\n",
      ",this is 9 line\n",
      ",New Line 1\n",
      "new Line 2\n",
      "this is 0 line\n",
      ",this is 1 line\n",
      ",this is 2 line\n",
      ",this is 3 line\n",
      ",this is 4 line\n",
      ",this is 5 line\n",
      ",this is 6 line\n",
      ",this is 7 line\n",
      ",this is 8 line\n",
      ",this is 9 line\n",
      ",New Line 1\n",
      "new Line 2\n",
      "this is 0 line\n",
      ",this is 1 line\n",
      ",this is 2 line\n",
      ",this is 3 line\n",
      ",this is 4 line\n",
      ",this is 5 line\n",
      ",this is 6 line\n",
      ",this is 7 line\n",
      ",this is 8 line\n",
      ",this is 9 line\n",
      ",New Line 1\n",
      "new Line 2\n",
      "\n"
     ]
    }
   ],
   "source": [
    "# function to read of the file\n",
    "def readFileData(filename):\n",
    "    f=open(filename,'r')\n",
    "    if f.mode=='r':\n",
    "        x=f.read()\n",
    "        print(x)\n",
    "        f.close()\n",
    "    return\n",
    "readFileData('file2.txt')"
   ]
  },
  {
   "cell_type": "code",
   "execution_count": 7,
   "metadata": {},
   "outputs": [
    {
     "name": "stdout",
     "output_type": "stream",
     "text": [
      "enter filenamefile1.txt\n",
      "Enter the mode of the filer\n",
      "\n"
     ]
    }
   ],
   "source": [
    "# function to read the files\n",
    "def fileOperations(filename,mode):\n",
    "    with open(filename,mode) as f:\n",
    "        if f.mode=='r':\n",
    "            data=f.read()\n",
    "            print(data)\n",
    "        elif f.mode=='a':\n",
    "            f.write('Data to the file')\n",
    "    return\n",
    "filename=input('enter filename')\n",
    "mode=input('Enter the mode of the file')\n",
    "fileOperations(filename,mode)"
   ]
  },
  {
   "cell_type": "code",
   "execution_count": 13,
   "metadata": {},
   "outputs": [
    {
     "name": "stdout",
     "output_type": "stream",
     "text": [
      "Enter file name: file2.txt\n",
      "Enter the word: this\n"
     ]
    },
    {
     "data": {
      "text/plain": [
       "29"
      ]
     },
     "execution_count": 13,
     "metadata": {},
     "output_type": "execute_result"
    }
   ],
   "source": [
    "# data analysis\n",
    "# word count program\n",
    "def wordCount(filename,word):\n",
    "    with open(filename,'r') as f:\n",
    "        if f.mode=='r':\n",
    "            x=f.read()\n",
    "            li=x.split()\n",
    "    cnt=li.count(word)\n",
    "    return cnt\n",
    "filename=input('Enter file name: ')\n",
    "word=input('Enter the word: ')\n",
    "wordCount(filename,word)"
   ]
  },
  {
   "cell_type": "code",
   "execution_count": 14,
   "metadata": {},
   "outputs": [
    {
     "name": "stdout",
     "output_type": "stream",
     "text": [
      "Enter the filename: file2.txt\n"
     ]
    },
    {
     "data": {
      "text/plain": [
       "518"
      ]
     },
     "execution_count": 14,
     "metadata": {},
     "output_type": "execute_result"
    }
   ],
   "source": [
    "# character count from the given file\n",
    "def charCount(filename):\n",
    "    with open(filename,'r') as f:\n",
    "         if f.mode=='r':\n",
    "            x=f.read()\n",
    "            li=list(x)\n",
    "    return len(li)\n",
    "filename=input('Enter the filename: ')\n",
    "charCount(filename)\n",
    "    "
   ]
  },
  {
   "cell_type": "code",
   "execution_count": 15,
   "metadata": {},
   "outputs": [
    {
     "name": "stdout",
     "output_type": "stream",
     "text": [
      "['Python Progr', 'mming']\n"
     ]
    }
   ],
   "source": [
    "s1=\"Python Programming\"\n",
    "print(s1.split('a'))\n"
   ]
  },
  {
   "cell_type": "code",
   "execution_count": 22,
   "metadata": {},
   "outputs": [
    {
     "name": "stdout",
     "output_type": "stream",
     "text": [
      "Enter the filename: file2.txt\n"
     ]
    },
    {
     "data": {
      "text/plain": [
       "37"
      ]
     },
     "execution_count": 22,
     "metadata": {},
     "output_type": "execute_result"
    }
   ],
   "source": [
    "# function to find the no of lines in the input file\n",
    "# input -- filename(file2.txt)\n",
    "# output -- no of lines(12)\n",
    "def countOflines(filename):\n",
    "    with open(filename,'r') as f:\n",
    "        if f.mode=='r':\n",
    "            x=f.read()\n",
    "            li=x.split(\"\\n\")\n",
    "    return len(li)\n",
    "filename=input('Enter the filename: ')\n",
    "countOflines(filename)"
   ]
  },
  {
   "cell_type": "code",
   "execution_count": 7,
   "metadata": {},
   "outputs": [
    {
     "name": "stdout",
     "output_type": "stream",
     "text": [
      "Enter the filename: file2.txt\n"
     ]
    },
    {
     "data": {
      "text/plain": [
       "'upper case=9,lower case=333'"
      ]
     },
     "execution_count": 7,
     "metadata": {},
     "output_type": "execute_result"
    }
   ],
   "source": [
    "# function to print the upper and lower characters\n",
    "def caseCount(filename):\n",
    "    cntupper=0\n",
    "    cntlower=0\n",
    "    with open(filename,'r') as f:\n",
    "        if f.mode=='r':\n",
    "            x=f.read()\n",
    "            li=list(x)\n",
    "    for i in li:\n",
    "        if i.isupper():\n",
    "            cntupper+=1 \n",
    "        elif i.islower():\n",
    "            cntlower+=1 \n",
    "    output='upper case={0},lower case={1}'.format(cntupper,cntlower)\n",
    "    return output\n",
    "filename=input('Enter the filename: ')\n",
    "caseCount(filename)\n",
    "            \n",
    "        "
   ]
  },
  {
   "cell_type": "code",
   "execution_count": 8,
   "metadata": {},
   "outputs": [
    {
     "name": "stdout",
     "output_type": "stream",
     "text": [
      " Volume in drive C has no label.\n",
      " Volume Serial Number is 74E3-BEEF\n",
      "\n",
      " Directory of C:\\Users\\student\\Desktop\\pythonprog\n",
      "\n",
      "11-Jul-19  12:42 PM    <DIR>          .\n",
      "11-Jul-19  12:42 PM    <DIR>          ..\n",
      "11-Jul-19  09:12 AM    <DIR>          .ipynb_checkpoints\n",
      "10-Jul-19  04:44 PM            10,781 10 july 2019.ipynb\n",
      "11-Jul-19  12:42 PM            10,342 11 july 2019.ipynb\n",
      "06-Jul-19  09:18 AM            10,617 5th july 2019.ipynb\n",
      "06-Jul-19  11:27 AM             4,746 6 july 2019.ipynb\n",
      "08-Jul-19  04:07 PM            13,394 8 july 2019.ipynb\n",
      "09-Jul-19  04:49 PM            14,491 9 july 2019.ipynb\n",
      "11-Jul-19  10:42 AM                 0 file1.txt\n",
      "11-Jul-19  10:55 AM               554 file2.txt\n",
      "05-Jul-19  09:53 AM    <DIR>          git\n",
      "               8 File(s)         64,925 bytes\n",
      "               4 Dir(s)  55,331,536,896 bytes free\n"
     ]
    }
   ],
   "source": [
    "ls"
   ]
  },
  {
   "cell_type": "code",
   "execution_count": 9,
   "metadata": {},
   "outputs": [
    {
     "name": "stdout",
     "output_type": "stream",
     "text": [
      "[WinError 3] The system cannot find the path specified: 'desktop/Pythonprog/git'\n",
      "C:\\Users\\student\\Desktop\\pythonprog\n"
     ]
    }
   ],
   "source": [
    "cd desktop/Pythonprog/git"
   ]
  },
  {
   "cell_type": "code",
   "execution_count": 12,
   "metadata": {},
   "outputs": [
    {
     "data": {
      "text/plain": [
       "['data.txt']"
      ]
     },
     "execution_count": 12,
     "metadata": {},
     "output_type": "execute_result"
    }
   ],
   "source": [
    "import os\n",
    "os.listdir('git/')"
   ]
  },
  {
   "cell_type": "code",
   "execution_count": 15,
   "metadata": {},
   "outputs": [
    {
     "ename": "ModuleNotFoundError",
     "evalue": "No module named 'Pathlib'",
     "output_type": "error",
     "traceback": [
      "\u001b[1;31m---------------------------------------------------------------------------\u001b[0m",
      "\u001b[1;31mModuleNotFoundError\u001b[0m                       Traceback (most recent call last)",
      "\u001b[1;32m<ipython-input-15-4b825fbae688>\u001b[0m in \u001b[0;36m<module>\u001b[1;34m\u001b[0m\n\u001b[1;32m----> 1\u001b[1;33m \u001b[1;32mfrom\u001b[0m \u001b[0mPathlib\u001b[0m \u001b[1;32mimport\u001b[0m \u001b[0mPath\u001b[0m\u001b[1;33m\u001b[0m\u001b[1;33m\u001b[0m\u001b[0m\n\u001b[0m\u001b[0;32m      2\u001b[0m \u001b[0mli\u001b[0m\u001b[1;33m=\u001b[0m\u001b[0mPath\u001b[0m\u001b[1;33m(\u001b[0m\u001b[1;34m'Git/'\u001b[0m\u001b[1;33m)\u001b[0m\u001b[1;33m\u001b[0m\u001b[1;33m\u001b[0m\u001b[0m\n\u001b[0;32m      3\u001b[0m \u001b[1;32mfor\u001b[0m \u001b[0mi\u001b[0m \u001b[1;32min\u001b[0m \u001b[0mli\u001b[0m\u001b[1;33m.\u001b[0m\u001b[0miterdir\u001b[0m\u001b[1;33m(\u001b[0m\u001b[1;33m)\u001b[0m\u001b[1;33m:\u001b[0m\u001b[1;33m\u001b[0m\u001b[1;33m\u001b[0m\u001b[0m\n\u001b[0;32m      4\u001b[0m     \u001b[0mPrint\u001b[0m\u001b[1;33m(\u001b[0m\u001b[0mi\u001b[0m\u001b[1;33m.\u001b[0m\u001b[0mname\u001b[0m\u001b[1;33m)\u001b[0m\u001b[1;33m\u001b[0m\u001b[1;33m\u001b[0m\u001b[0m\n",
      "\u001b[1;31mModuleNotFoundError\u001b[0m: No module named 'Pathlib'"
     ]
    }
   ],
   "source": [
    "from Pathlib import Path\n",
    "li=Path('Git/')\n",
    "for i in li.iterdir():\n",
    "    Print(i.name)"
   ]
  },
  {
   "cell_type": "code",
   "execution_count": 16,
   "metadata": {},
   "outputs": [
    {
     "name": "stdout",
     "output_type": "stream",
     "text": [
      "[WinError 2] The system cannot find the file specified: 'Pythonprog'\n",
      "C:\\Users\\student\\Desktop\\pythonprog\n"
     ]
    }
   ],
   "source": [
    "cd Pythonprog\n"
   ]
  },
  {
   "cell_type": "code",
   "execution_count": 17,
   "metadata": {},
   "outputs": [
    {
     "name": "stdout",
     "output_type": "stream",
     "text": [
      "C:\\Users\\student\\Desktop\\pythonprog\\git\n"
     ]
    }
   ],
   "source": [
    "cd git"
   ]
  },
  {
   "cell_type": "code",
   "execution_count": 18,
   "metadata": {},
   "outputs": [
    {
     "ename": "ModuleNotFoundError",
     "evalue": "No module named 'Pathlib'",
     "output_type": "error",
     "traceback": [
      "\u001b[1;31m---------------------------------------------------------------------------\u001b[0m",
      "\u001b[1;31mModuleNotFoundError\u001b[0m                       Traceback (most recent call last)",
      "\u001b[1;32m<ipython-input-18-4b825fbae688>\u001b[0m in \u001b[0;36m<module>\u001b[1;34m\u001b[0m\n\u001b[1;32m----> 1\u001b[1;33m \u001b[1;32mfrom\u001b[0m \u001b[0mPathlib\u001b[0m \u001b[1;32mimport\u001b[0m \u001b[0mPath\u001b[0m\u001b[1;33m\u001b[0m\u001b[1;33m\u001b[0m\u001b[0m\n\u001b[0m\u001b[0;32m      2\u001b[0m \u001b[0mli\u001b[0m\u001b[1;33m=\u001b[0m\u001b[0mPath\u001b[0m\u001b[1;33m(\u001b[0m\u001b[1;34m'Git/'\u001b[0m\u001b[1;33m)\u001b[0m\u001b[1;33m\u001b[0m\u001b[1;33m\u001b[0m\u001b[0m\n\u001b[0;32m      3\u001b[0m \u001b[1;32mfor\u001b[0m \u001b[0mi\u001b[0m \u001b[1;32min\u001b[0m \u001b[0mli\u001b[0m\u001b[1;33m.\u001b[0m\u001b[0miterdir\u001b[0m\u001b[1;33m(\u001b[0m\u001b[1;33m)\u001b[0m\u001b[1;33m:\u001b[0m\u001b[1;33m\u001b[0m\u001b[1;33m\u001b[0m\u001b[0m\n\u001b[0;32m      4\u001b[0m     \u001b[0mPrint\u001b[0m\u001b[1;33m(\u001b[0m\u001b[0mi\u001b[0m\u001b[1;33m.\u001b[0m\u001b[0mname\u001b[0m\u001b[1;33m)\u001b[0m\u001b[1;33m\u001b[0m\u001b[1;33m\u001b[0m\u001b[0m\n",
      "\u001b[1;31mModuleNotFoundError\u001b[0m: No module named 'Pathlib'"
     ]
    }
   ],
   "source": [
    "from Pathlib import Path\n",
    "li=Path('Git/')\n",
    "for i in li.iterdir():\n",
    "    Print(i.name)"
   ]
  },
  {
   "cell_type": "code",
   "execution_count": 19,
   "metadata": {},
   "outputs": [
    {
     "name": "stdout",
     "output_type": "stream",
     "text": [
      "[WinError 2] The system cannot find the file specified: 'git'\n",
      "C:\\Users\\student\\Desktop\\pythonprog\\git\n"
     ]
    }
   ],
   "source": [
    "cd git"
   ]
  },
  {
   "cell_type": "code",
   "execution_count": 20,
   "metadata": {},
   "outputs": [
    {
     "name": "stdout",
     "output_type": "stream",
     "text": [
      " Volume in drive C has no label.\n",
      " Volume Serial Number is 74E3-BEEF\n",
      "\n",
      " Directory of C:\\Users\\student\\Desktop\\pythonprog\\git\n",
      "\n",
      "05-Jul-19  09:53 AM    <DIR>          .\n",
      "05-Jul-19  09:53 AM    <DIR>          ..\n",
      "05-Jul-19  10:21 AM                14 data.txt\n",
      "               1 File(s)             14 bytes\n",
      "               2 Dir(s)  55,318,491,136 bytes free\n"
     ]
    }
   ],
   "source": [
    "ls"
   ]
  },
  {
   "cell_type": "code",
   "execution_count": 21,
   "metadata": {},
   "outputs": [
    {
     "name": "stdout",
     "output_type": "stream",
     "text": [
      "C:\\Users\\student\\Desktop\\pythonprog\n"
     ]
    }
   ],
   "source": [
    "cd .."
   ]
  },
  {
   "cell_type": "code",
   "execution_count": 22,
   "metadata": {},
   "outputs": [
    {
     "ename": "ModuleNotFoundError",
     "evalue": "No module named 'Pathlib'",
     "output_type": "error",
     "traceback": [
      "\u001b[1;31m---------------------------------------------------------------------------\u001b[0m",
      "\u001b[1;31mModuleNotFoundError\u001b[0m                       Traceback (most recent call last)",
      "\u001b[1;32m<ipython-input-22-4b825fbae688>\u001b[0m in \u001b[0;36m<module>\u001b[1;34m\u001b[0m\n\u001b[1;32m----> 1\u001b[1;33m \u001b[1;32mfrom\u001b[0m \u001b[0mPathlib\u001b[0m \u001b[1;32mimport\u001b[0m \u001b[0mPath\u001b[0m\u001b[1;33m\u001b[0m\u001b[1;33m\u001b[0m\u001b[0m\n\u001b[0m\u001b[0;32m      2\u001b[0m \u001b[0mli\u001b[0m\u001b[1;33m=\u001b[0m\u001b[0mPath\u001b[0m\u001b[1;33m(\u001b[0m\u001b[1;34m'Git/'\u001b[0m\u001b[1;33m)\u001b[0m\u001b[1;33m\u001b[0m\u001b[1;33m\u001b[0m\u001b[0m\n\u001b[0;32m      3\u001b[0m \u001b[1;32mfor\u001b[0m \u001b[0mi\u001b[0m \u001b[1;32min\u001b[0m \u001b[0mli\u001b[0m\u001b[1;33m.\u001b[0m\u001b[0miterdir\u001b[0m\u001b[1;33m(\u001b[0m\u001b[1;33m)\u001b[0m\u001b[1;33m:\u001b[0m\u001b[1;33m\u001b[0m\u001b[1;33m\u001b[0m\u001b[0m\n\u001b[0;32m      4\u001b[0m     \u001b[0mPrint\u001b[0m\u001b[1;33m(\u001b[0m\u001b[0mi\u001b[0m\u001b[1;33m.\u001b[0m\u001b[0mname\u001b[0m\u001b[1;33m)\u001b[0m\u001b[1;33m\u001b[0m\u001b[1;33m\u001b[0m\u001b[0m\n",
      "\u001b[1;31mModuleNotFoundError\u001b[0m: No module named 'Pathlib'"
     ]
    }
   ],
   "source": [
    "from Pathlib import Path\n",
    "li=Path('Git/')\n",
    "for i in li.iterdir():\n",
    "    Print(i.name)"
   ]
  },
  {
   "cell_type": "code",
   "execution_count": 25,
   "metadata": {},
   "outputs": [
    {
     "ename": "ModuleNotFoundError",
     "evalue": "No module named 'Pathlib'",
     "output_type": "error",
     "traceback": [
      "\u001b[1;31m---------------------------------------------------------------------------\u001b[0m",
      "\u001b[1;31mModuleNotFoundError\u001b[0m                       Traceback (most recent call last)",
      "\u001b[1;32m<ipython-input-25-668f0e4aef1c>\u001b[0m in \u001b[0;36m<module>\u001b[1;34m\u001b[0m\n\u001b[1;32m----> 1\u001b[1;33m \u001b[1;32mfrom\u001b[0m \u001b[0mPathlib\u001b[0m \u001b[1;32mimport\u001b[0m \u001b[0mPath\u001b[0m\u001b[1;33m\u001b[0m\u001b[1;33m\u001b[0m\u001b[0m\n\u001b[0m\u001b[0;32m      2\u001b[0m \u001b[0mli\u001b[0m\u001b[1;33m=\u001b[0m\u001b[0mPath\u001b[0m\u001b[1;33m(\u001b[0m\u001b[1;34m'pythonprog'\u001b[0m\u001b[1;33m)\u001b[0m\u001b[1;33m\u001b[0m\u001b[1;33m\u001b[0m\u001b[0m\n\u001b[0;32m      3\u001b[0m \u001b[1;32mfor\u001b[0m \u001b[0mi\u001b[0m \u001b[1;32min\u001b[0m \u001b[0mli\u001b[0m\u001b[1;33m.\u001b[0m\u001b[0miterdir\u001b[0m\u001b[1;33m(\u001b[0m\u001b[1;33m)\u001b[0m\u001b[1;33m:\u001b[0m\u001b[1;33m\u001b[0m\u001b[1;33m\u001b[0m\u001b[0m\n\u001b[0;32m      4\u001b[0m     \u001b[0mPrint\u001b[0m\u001b[1;33m(\u001b[0m\u001b[0mi\u001b[0m\u001b[1;33m.\u001b[0m\u001b[0mname\u001b[0m\u001b[1;33m)\u001b[0m\u001b[1;33m\u001b[0m\u001b[1;33m\u001b[0m\u001b[0m\n",
      "\u001b[1;31mModuleNotFoundError\u001b[0m: No module named 'Pathlib'"
     ]
    }
   ],
   "source": [
    "from Pathlib import Path\n",
    "li=Path('pythonprog')\n",
    "for i in li.iterdir():\n",
    "    Print(i.name)"
   ]
  },
  {
   "cell_type": "code",
   "execution_count": 24,
   "metadata": {},
   "outputs": [
    {
     "name": "stdout",
     "output_type": "stream",
     "text": [
      "C:\\Users\\student\\Desktop\\pythonprog\n"
     ]
    }
   ],
   "source": [
    "cd ..."
   ]
  },
  {
   "cell_type": "code",
   "execution_count": 26,
   "metadata": {},
   "outputs": [
    {
     "data": {
      "text/plain": [
       "['data.txt']"
      ]
     },
     "execution_count": 26,
     "metadata": {},
     "output_type": "execute_result"
    }
   ],
   "source": [
    "import os\n",
    "os.listdir('Git/')"
   ]
  },
  {
   "cell_type": "code",
   "execution_count": 31,
   "metadata": {},
   "outputs": [
    {
     "ename": "ImportError",
     "evalue": "cannot import name 'path' from 'pathlib' (C:\\Users\\student\\Anaconda3\\lib\\pathlib.py)",
     "output_type": "error",
     "traceback": [
      "\u001b[1;31m---------------------------------------------------------------------------\u001b[0m",
      "\u001b[1;31mImportError\u001b[0m                               Traceback (most recent call last)",
      "\u001b[1;32m<ipython-input-31-0c8b213c248d>\u001b[0m in \u001b[0;36m<module>\u001b[1;34m\u001b[0m\n\u001b[1;32m----> 1\u001b[1;33m \u001b[1;32mfrom\u001b[0m \u001b[0mpathlib\u001b[0m \u001b[1;32mimport\u001b[0m \u001b[0mpath\u001b[0m\u001b[1;33m\u001b[0m\u001b[1;33m\u001b[0m\u001b[0m\n\u001b[0m\u001b[0;32m      2\u001b[0m \u001b[0mli\u001b[0m\u001b[1;33m=\u001b[0m\u001b[0mpath\u001b[0m\u001b[1;33m(\u001b[0m\u001b[1;34m'GIT/'\u001b[0m\u001b[1;33m)\u001b[0m\u001b[1;33m\u001b[0m\u001b[1;33m\u001b[0m\u001b[0m\n\u001b[0;32m      3\u001b[0m \u001b[1;32mfor\u001b[0m \u001b[0mi\u001b[0m \u001b[1;32min\u001b[0m \u001b[0mli\u001b[0m\u001b[1;33m.\u001b[0m\u001b[0miterdir\u001b[0m\u001b[1;33m(\u001b[0m\u001b[1;33m)\u001b[0m\u001b[1;33m:\u001b[0m\u001b[1;33m\u001b[0m\u001b[1;33m\u001b[0m\u001b[0m\n\u001b[0;32m      4\u001b[0m     \u001b[0mprint\u001b[0m\u001b[1;33m(\u001b[0m\u001b[0mi\u001b[0m\u001b[1;33m.\u001b[0m\u001b[0mname\u001b[0m\u001b[1;33m)\u001b[0m\u001b[1;33m\u001b[0m\u001b[1;33m\u001b[0m\u001b[0m\n",
      "\u001b[1;31mImportError\u001b[0m: cannot import name 'path' from 'pathlib' (C:\\Users\\student\\Anaconda3\\lib\\pathlib.py)"
     ]
    }
   ],
   "source": [
    "from pathlib import path\n",
    "li=path('GIT/')\n",
    "for i in li.iterdir():\n",
    "    print(i.name)"
   ]
  },
  {
   "cell_type": "code",
   "execution_count": 32,
   "metadata": {},
   "outputs": [
    {
     "name": "stdout",
     "output_type": "stream",
     "text": [
      "C:\\Users\\student\\Desktop\n"
     ]
    }
   ],
   "source": [
    "cd .."
   ]
  },
  {
   "cell_type": "code",
   "execution_count": 36,
   "metadata": {},
   "outputs": [
    {
     "ename": "FileNotFoundError",
     "evalue": "[WinError 3] The system cannot find the path specified: 'git/'",
     "output_type": "error",
     "traceback": [
      "\u001b[1;31m---------------------------------------------------------------------------\u001b[0m",
      "\u001b[1;31mFileNotFoundError\u001b[0m                         Traceback (most recent call last)",
      "\u001b[1;32m<ipython-input-36-b95b505eb0c3>\u001b[0m in \u001b[0;36m<module>\u001b[1;34m\u001b[0m\n\u001b[0;32m      1\u001b[0m \u001b[1;32mimport\u001b[0m \u001b[0mos\u001b[0m\u001b[1;33m\u001b[0m\u001b[1;33m\u001b[0m\u001b[0m\n\u001b[1;32m----> 2\u001b[1;33m \u001b[0mos\u001b[0m\u001b[1;33m.\u001b[0m\u001b[0mlistdir\u001b[0m\u001b[1;33m(\u001b[0m\u001b[1;34m'git/'\u001b[0m\u001b[1;33m)\u001b[0m\u001b[1;33m\u001b[0m\u001b[1;33m\u001b[0m\u001b[0m\n\u001b[0m",
      "\u001b[1;31mFileNotFoundError\u001b[0m: [WinError 3] The system cannot find the path specified: 'git/'"
     ]
    }
   ],
   "source": [
    "import os\n",
    "os.listdir('git/')"
   ]
  },
  {
   "cell_type": "code",
   "execution_count": null,
   "metadata": {},
   "outputs": [],
   "source": []
  }
 ],
 "metadata": {
  "kernelspec": {
   "display_name": "Python 3",
   "language": "python",
   "name": "python3"
  }
 },
 "nbformat": 4,
 "nbformat_minor": 2
}
