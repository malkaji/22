{
 "cells": [
  {
   "cell_type": "code",
   "execution_count": 1,
   "metadata": {},
   "outputs": [
    {
     "name": "stdout",
     "output_type": "stream",
     "text": [
      "enter number 1:12\n",
      "enter number 2:13\n",
      "enter number 3:14\n",
      "14 is large number\n"
     ]
    }
   ],
   "source": [
    "a=int(input(\"enter number 1:\"))\n",
    "b=int(input(\"enter number 2:\"))\n",
    "c=int(input(\"enter number 3:\"))\n",
    "if a>b and a>c:\n",
    "           print(a,\"is large number\")\n",
    "elif b>a and a>c:\n",
    "           print(b,\"is large number\")\n",
    "else:\n",
    "           print(c,\"is large number\")"
   ]
  },
  {
   "cell_type": "code",
   "execution_count": 2,
   "metadata": {},
   "outputs": [
    {
     "name": "stdout",
     "output_type": "stream",
     "text": [
      "enter the year:2013\n",
      "2013 not a leap year\n"
     ]
    }
   ],
   "source": [
    "# check if a year is leap year or not\n",
    "a=int(input(\"enter the year:\"))\n",
    "if a%4==0:\n",
    "    print(a,\"leap year\")\n",
    "else:\n",
    "    print(a,\"not a leap year\")"
   ]
  },
  {
   "cell_type": "markdown",
   "metadata": {},
   "source": [
    "### iterations\n",
    "\n",
    "- while\n",
    "- for\n",
    "\n",
    "* syntax:\n",
    "       while boolean_condition\n",
    "       statement\n",
    "       increment/decrement\n",
    "     "
   ]
  },
  {
   "cell_type": "code",
   "execution_count": 3,
   "metadata": {},
   "outputs": [],
   "source": [
    "x=0\n",
    "while x>5:\n",
    "    print(\"deekshitha\")\n",
    "    x=x+1"
   ]
  },
  {
   "cell_type": "code",
   "execution_count": 1,
   "metadata": {},
   "outputs": [],
   "source": [
    "x=0\n",
    "while x>5:\n",
    "    print(\"deekshitha\")\n",
    "    x=x+1"
   ]
  },
  {
   "cell_type": "code",
   "execution_count": 3,
   "metadata": {},
   "outputs": [
    {
     "name": "stdout",
     "output_type": "stream",
     "text": [
      "enter a number:10\n",
      "1 2 3 4 5 6 7 8 9 10 "
     ]
    }
   ],
   "source": [
    "# print n natural number using while loop\n",
    "x=int(input(\"enter a number:\"))\n",
    "i=1\n",
    "while i<=x:\n",
    "    print(i,end=\" \")\n",
    "    i=i+1\n"
   ]
  },
  {
   "cell_type": "code",
   "execution_count": 12,
   "metadata": {},
   "outputs": [
    {
     "name": "stdout",
     "output_type": "stream",
     "text": [
      "enter a number10\n",
      "30\n"
     ]
    }
   ],
   "source": [
    "# read even numbers betweem 1 to n\n",
    "# odd even numbers between 1 to n\n",
    "n=int(input(\"enter a number\"))\n",
    "i=1\n",
    "sum=0\n",
    "while i<=n:\n",
    "    if i%2==0:\n",
    "      sum=sum+i\n",
    "        \n",
    "    i=i+1\n",
    "print(sum)\n"
   ]
  },
  {
   "cell_type": "code",
   "execution_count": 13,
   "metadata": {},
   "outputs": [
    {
     "name": "stdout",
     "output_type": "stream",
     "text": [
      "enter a number123\n",
      "3 2 1 "
     ]
    }
   ],
   "source": [
    "# number as a number -- 123\n",
    "# print the digits of given number : 3 2 1\n",
    "n=int(input(\"enter a number\"))\n",
    "while n!=0:\n",
    "    r=n%10\n",
    "    print(r,end=\" \")\n",
    "    n=n//10"
   ]
  },
  {
   "cell_type": "markdown",
   "metadata": {},
   "source": [
    "### functional programming\n",
    "    . simple\n",
    "    . easy to read\n",
    "    . lengthy program divides into sub program"
   ]
  },
  {
   "cell_type": "code",
   "execution_count": null,
   "metadata": {},
   "outputs": [],
   "source": [
    "def nameofthefunction (<parameters>):\n",
    "    statement\n",
    "    return"
   ]
  },
  {
   "cell_type": "code",
   "execution_count": 5,
   "metadata": {},
   "outputs": [],
   "source": [
    "# read a number ---- 1234\n",
    "# output -- 6(2+4)\n",
    "def addevendigits(n):\n",
    "    \n",
    "    \n",
    "    \n",
    "    \n",
    "    \n",
    "    \n",
    "    \n",
    "    \n",
    "    \n",
    "    \n",
    "    return\n",
    "addevendigits(1234)\n"
   ]
  },
  {
   "cell_type": "code",
   "execution_count": null,
   "metadata": {},
   "outputs": [],
   "source": []
  },
  {
   "cell_type": "code",
   "execution_count": null,
   "metadata": {},
   "outputs": [],
   "source": []
  }
 ],
 "metadata": {
  "kernelspec": {
   "display_name": "Python 3",
   "language": "python",
   "name": "python3"
  },
  "language_info": {
   "codemirror_mode": {
    "name": "ipython",
    "version": 3
   },
   "file_extension": ".py",
   "mimetype": "text/x-python",
   "name": "python",
   "nbconvert_exporter": "python",
   "pygments_lexer": "ipython3",
   "version": "3.7.3"
  }
 },
 "nbformat": 4,
 "nbformat_minor": 2
}
